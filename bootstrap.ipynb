{
 "cells": [
  {
   "cell_type": "markdown",
   "metadata": {},
   "source": [
    "# Bootstrapping Historical Sales Price from King County Property Sales"
   ]
  },
  {
   "cell_type": "markdown",
   "metadata": {},
   "source": [
    "## Load necessary modules"
   ]
  },
  {
   "cell_type": "code",
   "execution_count": null,
   "metadata": {},
   "outputs": [],
   "source": [
    "import pandas as pd\n",
    "import numpy as np\n",
    "from matplotlib import pyplot as plt"
   ]
  },
  {
   "cell_type": "markdown",
   "metadata": {},
   "source": [
    "## Load necessary data"
   ]
  },
  {
   "cell_type": "code",
   "execution_count": null,
   "metadata": {},
   "outputs": [],
   "source": [
    "king_county_sales = pd.read_csv(\"write_data/king_county_sales.csv\", low_memory=False)\n",
    "king_county_sales.head()"
   ]
  },
  {
   "cell_type": "markdown",
   "metadata": {},
   "source": [
    "## Preprocess the `documentdate` to transform it from a `string` to a `datetime` object"
   ]
  },
  {
   "cell_type": "code",
   "execution_count": null,
   "metadata": {},
   "outputs": [],
   "source": [
    "king_county_sales[\"clean_date\"] = pd.to_datetime(king_county_sales[\"documentdate\"], \n",
    "                                                 format=\"%m/%d/%Y\")\n",
    "king_county_sales[\"year\"] = king_county_sales[\"clean_date\"].dt.year"
   ]
  },
  {
   "cell_type": "markdown",
   "metadata": {},
   "source": [
    "## Subset the sales price of properties in two zipcodes: 98122 and 98105"
   ]
  },
  {
   "cell_type": "code",
   "execution_count": null,
   "metadata": {},
   "outputs": [],
   "source": [
    "only_98122 = king_county_sales.loc[(king_county_sales[\"zipcode\"] == \"98122\") &\n",
    "                                   (king_county_sales[\"year\"] == 2019), \"saleprice\"]\n",
    "only_98122[0:5]"
   ]
  },
  {
   "cell_type": "code",
   "execution_count": null,
   "metadata": {},
   "outputs": [],
   "source": [
    "only_98105 = king_county_sales.loc[(king_county_sales[\"zipcode\"] == \"98105\") &\n",
    "                                   (king_county_sales[\"year\"] == 2019), \"saleprice\"]\n",
    "only_98105[0:5]"
   ]
  },
  {
   "cell_type": "markdown",
   "metadata": {},
   "source": [
    "## Check the number of observations in both objects"
   ]
  },
  {
   "cell_type": "code",
   "execution_count": null,
   "metadata": {},
   "outputs": [],
   "source": [
    "only_98122.size"
   ]
  },
  {
   "cell_type": "code",
   "execution_count": null,
   "metadata": {},
   "outputs": [],
   "source": [
    "only_98105.size"
   ]
  },
  {
   "cell_type": "markdown",
   "metadata": {},
   "source": [
    "## Create a function that returns the sample means from each bootstrapped sample"
   ]
  },
  {
   "cell_type": "code",
   "execution_count": null,
   "metadata": {},
   "outputs": [],
   "source": [
    "n_bootstraps = 10**4\n",
    "\n",
    "def bootstrap(data, n_bootstraps=n_bootstraps):\n",
    "    \"\"\"Return array of sample means from bootstrapping n_samples times.\"\"\"\n",
    "    output = np.zeros(n_bootstraps)\n",
    "    n = len(data)\n",
    "    for i in range(n_bootstraps):\n",
    "        bootstrap_sample = np.random.choice(data, \n",
    "                                            size=n,\n",
    "                                            replace=True)\n",
    "        output[i] = (bootstrap_sample.sum() / n)\n",
    "    return output"
   ]
  },
  {
   "cell_type": "markdown",
   "metadata": {},
   "source": [
    "## Use `bootstrap()` on the sales price for each zipcode"
   ]
  },
  {
   "cell_type": "code",
   "execution_count": null,
   "metadata": {},
   "outputs": [],
   "source": [
    "only_98122_dist = bootstrap(only_98122, n_bootstraps)\n",
    "only_98105_dist = bootstrap(only_98105, n_bootstraps)"
   ]
  },
  {
   "cell_type": "markdown",
   "metadata": {},
   "source": [
    "## Visualize the two bootstrapped distributions"
   ]
  },
  {
   "cell_type": "code",
   "execution_count": null,
   "metadata": {},
   "outputs": [],
   "source": [
    "fig, ax = plt.subplots()\n",
    "ax.hist(only_98105_dist, alpha=.5, label=\"Zipcode 98105\")\n",
    "ax.hist(only_98122_dist, alpha=.5, label=\"Zipcode 98122\")\n",
    "ax.legend()\n",
    "ax.set_xlabel(\"% Property Sales Price\")\n",
    "plt.show()"
   ]
  },
  {
   "cell_type": "markdown",
   "metadata": {},
   "source": [
    "## Calculate the probability where bootstrapped sampled properties in 98122 sold for more than properties in 98105 during the 2019 year"
   ]
  },
  {
   "cell_type": "code",
   "execution_count": null,
   "metadata": {},
   "outputs": [],
   "source": [
    "(only_98122_dist > only_98105_dist).sum() / n_bootstraps"
   ]
  },
  {
   "cell_type": "code",
   "execution_count": null,
   "metadata": {},
   "outputs": [],
   "source": []
  }
 ],
 "metadata": {
  "kernelspec": {
   "display_name": "Python (learn-env)",
   "language": "python",
   "name": "learn-env"
  },
  "language_info": {
   "codemirror_mode": {
    "name": "ipython",
    "version": 3
   },
   "file_extension": ".py",
   "mimetype": "text/x-python",
   "name": "python",
   "nbconvert_exporter": "python",
   "pygments_lexer": "ipython3",
   "version": "3.6.6"
  }
 },
 "nbformat": 4,
 "nbformat_minor": 2
}
